{
 "cells": [
  {
   "cell_type": "code",
   "execution_count": 29,
   "metadata": {},
   "outputs": [],
   "source": [
    "import os\n",
    "import numpy as np\n",
    "import torch\n",
    "import torch.utils.data\n",
    "from typing import Sequence\n",
    "from sklearn.model_selection import train_test_split\n"
   ]
  },
  {
   "cell_type": "code",
   "execution_count": 30,
   "metadata": {},
   "outputs": [],
   "source": [
    "data_dir = 'input'\n",
    "\n",
    "def load_data(which: str):\n",
    "    \"\"\"\n",
    "    Loads data from a csv file\n",
    "    :param which: str\n",
    "        Which data to load, train or test\n",
    "    \"\"\"\n",
    "    assert which in ['train', 'test']\n",
    "    \n",
    "    if which == 'train':\n",
    "        data = np.loadtxt(fname=os.path.join(data_dir, 'train_data.csv'), delimiter=',', skiprows=1)\n",
    "        labels = np.loadtxt(fname=os.path.join(data_dir, 'train_labels.csv'), delimiter=',', skiprows=1)\n",
    "        return data, labels\n",
    "    elif which == 'test':\n",
    "        data = np.loadtxt(fname=os.path.join(data_dir, 'test_data.csv'), delimiter=',', skiprows=1)\n",
    "        return data\n",
    "    \n",
    "def save_prediction(prediction: Sequence[int], \n",
    "                    path: str = 'submission.csv'):\n",
    "    \"\"\"\n",
    "    Saves a sequence of predictions into a csv file with additional index column\n",
    "    :param prediction: Sequence of ints\n",
    "        Predictions to save\n",
    "    :param path: str\n",
    "        Path to a file to save into\n",
    "    \"\"\"\n",
    "    \n",
    "    pred_with_id = np.stack([np.arange(len(prediction)), prediction], axis=1)\n",
    "    np.savetxt(fname=path, X=pred_with_id, fmt='%d', delimiter=',', header='id,label', comments='')"
   ]
  },
  {
   "cell_type": "code",
   "execution_count": 31,
   "metadata": {},
   "outputs": [
    {
     "name": "stdout",
     "output_type": "stream",
     "text": [
      "(59580, 342)\n",
      "(59580,)\n",
      "(10000, 342)\n"
     ]
    }
   ],
   "source": [
    "train_data, train_labels = load_data(which='train')\n",
    "print(train_data.shape)\n",
    "print(train_labels.shape)\n",
    "\n",
    "test_data = load_data(which='test')\n",
    "print(test_data.shape)\n",
    "\n",
    "pred = np.random.randint(0, 10, size=test_data.shape[0])\n",
    "\n",
    "save_prediction(prediction=pred, path='random.csv')"
   ]
  },
  {
   "cell_type": "code",
   "execution_count": 47,
   "metadata": {},
   "outputs": [],
   "source": [
    "class TorchNetwork(torch.nn.Module):\n",
    "    \"\"\"\n",
    "    Simple 2-hidden layer non-linear neural network\n",
    "    \"\"\"\n",
    "    \n",
    "    def __init__(self, input_size, activation, n_classes, dropout_rate=0.33):\n",
    "        super(TorchNetwork, self).__init__()\n",
    "        self.h1 = torch.nn.Sequential(torch.nn.Linear(input_size, 500),\n",
    "                                      torch.nn.Dropout(p=dropout_rate))\n",
    "        self.h2 = torch.nn.Sequential(torch.nn.Linear(500, 300),\n",
    "                                      torch.nn.Dropout(p=dropout_rate))\n",
    "        self.out = torch.nn.Linear(300, n_classes)\n",
    "        self.act = activation\n",
    "        \n",
    "    def __call__(self, x):\n",
    "        out_h1 = self.act(self.h1(x))\n",
    "        out_h2 = self.act(self.h2(out_h1))\n",
    "        return self.out(out_h2)"
   ]
  },
  {
   "cell_type": "code",
   "execution_count": 71,
   "metadata": {},
   "outputs": [
    {
     "name": "stdout",
     "output_type": "stream",
     "text": [
      "Epoch 0 iter 700/930 loss: 0.6838169097900391\n",
      "Test accuracy: 0.7974711656570435\n",
      "Epoch 1 iter 700/930 loss: 0.53925353288650517\n",
      "Test accuracy: 0.8182835578918457\n",
      "Epoch 2 iter 700/930 loss: 0.50870561599731454\n",
      "Test accuracy: 0.823206901550293\n",
      "Epoch 3 iter 700/930 loss: 0.5006780028343201\n",
      "Test accuracy: 0.8314870595932007\n",
      "Epoch 4 iter 700/930 loss: 0.45400130748748785\n",
      "Test accuracy: 0.8340606689453125\n",
      "Epoch 5 iter 700/930 loss: 0.39808204770088196\n",
      "Test accuracy: 0.8276826739311218\n",
      "Epoch 6 iter 700/930 loss: 0.46072721481323245\n",
      "Test accuracy: 0.8301443457603455\n",
      "Epoch 7 iter 700/930 loss: 0.36390855908393864\n",
      "Test accuracy: 0.8302562236785889\n",
      "Epoch 8 iter 700/930 loss: 0.26639658212661743\n",
      "Test accuracy: 0.8339487314224243\n",
      "Epoch 9 iter 700/930 loss: 0.33843779563903815\n",
      "Test accuracy: 0.8312633037567139\n"
     ]
    }
   ],
   "source": [
    "from torch.optim import Adam\n",
    "from torch.nn.functional import cross_entropy, relu\n",
    "\n",
    "# some hyperparams\n",
    "batch_size: int = 64\n",
    "epoch: int = 10\n",
    "lr: float = 0.01\n",
    "\n",
    "\n",
    "X_train, X_test, y_train, y_test = train_test_split(train_data, train_labels, test_size=0.15, random_state=42)\n",
    "    \n",
    "# prepare data loaders, base don the already loaded datasets\n",
    "train_tensor_x = torch.stack([torch.Tensor(i) for i in X_train])\n",
    "train_tensor_y = torch.stack([torch.LongTensor(np.array(i)) for i in y_train])\n",
    "\n",
    "train_dataset = torch.utils.data.TensorDataset(train_tensor_x, train_tensor_y)\n",
    "\n",
    "test_tensor_x = torch.stack([torch.Tensor(i) for i in X_test])\n",
    "test_tensor_y = torch.stack([torch.LongTensor(np.array(i)) for i in y_test])\n",
    "\n",
    "test_dataset = torch.utils.data.TensorDataset(test_tensor_x, test_tensor_y)\n",
    "\n",
    "train_loader = torch.utils.data.DataLoader(train_dataset, batch_size=batch_size)\n",
    "test_loader = torch.utils.data.DataLoader(test_dataset, batch_size=batch_size)\n",
    "\n",
    "input_size = 342\n",
    "n_classes = 10\n",
    "\n",
    "# initialize the model\n",
    "model: TorchNetwork = TorchNetwork(input_size=input_size, activation=relu, n_classes=n_classes)\n",
    "\n",
    "# initialize the optimizer\n",
    "optimizer: torch.optim.Optimizer = Adam(model.parameters())\n",
    "\n",
    "# training loop\n",
    "for e in range(epoch):\n",
    "    for i, (x, y) in enumerate(train_loader):\n",
    "        \n",
    "        # reset the gradients from previouis iteration\n",
    "        optimizer.zero_grad()\n",
    "        # pass through the network\n",
    "        output: torch.Tensor = model(x)\n",
    "        # calculate loss\n",
    "        loss: torch.Tensor = cross_entropy(output, y)\n",
    "        # backward pass thorught the network\n",
    "        loss.backward()\n",
    "        # apply the gradients\n",
    "        optimizer.step()\n",
    "        \n",
    "        # log the loss value\n",
    "        if (i + 1) % 100 == 0:\n",
    "            print(f\"Epoch {e} iter {i+1}/{len(train_data) // batch_size} loss: {loss.item()}\", end=\"\\r\")\n",
    "            \n",
    "    # at the end of an epoch run evaluation on the test set\n",
    "    with torch.no_grad():\n",
    "        # initialize the number of correct predictions\n",
    "        correct: int = 0\n",
    "        for i, (x, y) in enumerate(test_loader):\n",
    "            # pass through the network\n",
    "            output: torch.Tensor = model(x)\n",
    "            # update the number of correctly predicted examples\n",
    "            p = torch.argmax(output, dim=1)\n",
    "            correct += torch.sum((p == y).float())\n",
    "        print(f\"\\nTest accuracy: {correct / len(y_test)}\")\n",
    "            \n",
    "            \n",
    "# this is your test       \n",
    "assert correct / len(y_test) > 0.79, \"Subject to random seed you should be able to get >79% accuracy\""
   ]
  },
  {
   "cell_type": "code",
   "execution_count": 72,
   "metadata": {},
   "outputs": [],
   "source": [
    "pred = []\n",
    "with torch.no_grad():\n",
    "    for x in test_data:\n",
    "        output = model(torch.Tensor(x))\n",
    "        p = torch.argmax(output)\n",
    "        pred.append(p)\n",
    "\n",
    "\n",
    "save_prediction(prediction=pred, path='prediction.csv')"
   ]
  },
  {
   "cell_type": "code",
   "execution_count": null,
   "metadata": {},
   "outputs": [],
   "source": []
  }
 ],
 "metadata": {
  "kernelspec": {
   "display_name": "Python 3",
   "language": "python",
   "name": "python3"
  },
  "language_info": {
   "codemirror_mode": {
    "name": "ipython",
    "version": 3
   },
   "file_extension": ".py",
   "mimetype": "text/x-python",
   "name": "python",
   "nbconvert_exporter": "python",
   "pygments_lexer": "ipython3",
   "version": "3.6.5"
  }
 },
 "nbformat": 4,
 "nbformat_minor": 2
}
