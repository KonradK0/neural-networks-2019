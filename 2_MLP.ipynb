{
 "cells": [
  {
   "cell_type": "markdown",
   "metadata": {},
   "source": [
    "# Lab. 2 Multi Layered Networks\n",
    "\n",
    "### Ładowanie danych\n",
    "\n",
    "PyTroch, a właściwie pakiet `torchvision` udostępnia parę przydatnych rzeczy, z których skorzystamy na dzisiejszych zajęciach.\n",
    "\n",
    "Zacznijmy od ściąganie i ładowania danych, w [`torchvision.datasets`](https://pytorch.org/docs/stable/torchvision/datasets.html) znajdziemy popularne datasety, zajmiemy się dzisiaj MNISTem."
   ]
  },
  {
   "cell_type": "code",
   "execution_count": 17,
   "metadata": {},
   "outputs": [
    {
     "name": "stdout",
     "output_type": "stream",
     "text": [
      "0.13054749369621277 0.30810782313346863\n"
     ]
    }
   ],
   "source": [
    "import torch\n",
    "from torchvision.datasets import MNIST\n",
    "from torchvision import transforms\n",
    "\n",
    "train_data = MNIST(root='.', download=True, train=True, transform=transforms.ToTensor())\n",
    "test_data = MNIST(root='.', download=True, train=False, transform=transforms.ToTensor())\n",
    "\n",
    "train_data\n",
    "\n",
    "mean = (train_data.train_data.type(torch.float32) / 255).mean().item()\n",
    "std = (train_data.train_data.type(torch.float32) / 255).std().item()\n",
    "print(mean, std)\n",
    "\n",
    "data_transform = transforms.Compose([\n",
    "    transforms.ToTensor(),\n",
    "    transforms.Normalize((mean, ), (std, )),\n",
    "    transforms.Lambda(lambda t: t.view(784))\n",
    "])\n",
    "\n",
    "\n",
    "train_data = MNIST(root='.', download=True, train=True, transform=data_transform)\n",
    "test_data = MNIST(root='.', download=True, train=False, transform=data_transform)"
   ]
  },
  {
   "cell_type": "markdown",
   "metadata": {},
   "source": [
    "Oprócz tego z samego `torcha` możemy skorzystać z [`DataLoadera`](https://pytorch.org/docs/stable/data.html#torch.utils.data.DataLoader), który załatwia za nas sporo przydatnych rzeczy typu shufflowanie i batchowanie danych."
   ]
  },
  {
   "cell_type": "code",
   "execution_count": 18,
   "metadata": {},
   "outputs": [
    {
     "name": "stdout",
     "output_type": "stream",
     "text": [
      "torch.Size([10, 784])\n",
      "torch.float32\n",
      "tensor([5, 0, 4, 1, 9, 2, 1, 3, 1, 4])\n"
     ]
    }
   ],
   "source": [
    "from torch.utils.data import DataLoader\n",
    "\n",
    "train_loader = torch.utils.data.DataLoader(train_data, batch_size=10)\n",
    "\n",
    "for x, y in train_loader:\n",
    "    print(x.shape)\n",
    "    print(x.dtype)\n",
    "    print(y)\n",
    "    break"
   ]
  },
  {
   "cell_type": "markdown",
   "metadata": {},
   "source": [
    "Wygląda na to, że aż tak bardzo za darmo wszystkiego nie dostaniemy, klasa `MNIST` zwraca nam dane w postaci obiektów [PILa](https://pillow.readthedocs.io/en/stable/). Musimy coś z tym zrobić.\n",
    "\n",
    "## Zadanie 1.\n",
    "1. Za pomocą [`transformerów`](https://pytorch.org/docs/stable/torchvision/transforms.html) przerobić powyższy kod tak aby zadziałał.  \n",
    "**HINT**: sprawdzić jakie argumenty przyjmuje klasa `MNIST`.\n",
    "2. Policzyć średnią i odchylenie standardowe wartości pojedynczego piksela dla całego zbioru trenującego i użyć ich do znormalizowania danych trenujących.  \n",
    "**HINT**: Tutaj torchvision też powinien nam to ułatwić.\n",
    "3. Zmienić \"kształt\" jednego przykładu z `28x28` na `784`.  \n",
    "**HINT**: [`Lambda`](https://pytorch.org/docs/stable/torchvision/transforms.html#torchvision.transforms.Lambda)\n",
    "\n",
    "Uwaga: zwrócić uwagę co dokładnie robią używane _transformery_!\n",
    "\n",
    "## Zadanie 2.\n",
    "\n",
    "Ręcznie zaimplementować prostą sieć z jedną warstwą ukrtyą. Sieć ma mieć:\n",
    "1. Jedną warstwę ukrytą rozmiaru 500 z wagami zainicjalizowanymi ze standardowego rozkładu normalnego.\n",
    "2. Warstwa przy obu operacjach ma mieć uczone _biasy_ zainicjalizowane na 0.\n",
    "\n",
    "**HINT**: Do rozkładu normalnego najlepiej użyć [`torch.randn`](https://pytorch.org/docs/stable/torch.html#torch.randn). Sprawdzić jakie ważne argumenty ta funkcja przyjmuje!\n",
    "\n",
    "Należy oprócz tego zaimplementować pętlę uczenia z użyciem PyTorchowej funkcji kosztu _cross entropy_ i optymalizatora SGD."
   ]
  },
  {
   "cell_type": "code",
   "execution_count": 37,
   "metadata": {},
   "outputs": [],
   "source": [
    "from typing import List\n",
    "\n",
    "class CustomNetwork(object):\n",
    "    \"\"\"\n",
    "    Simple 1-hidden layer linear neural network\n",
    "    \"\"\"\n",
    "    def __init__(self, input_size, activation, n_classes):\n",
    "        \"\"\"\n",
    "        Initialize network's weights \n",
    "        \"\"\"\n",
    "        self.activation = activation\n",
    "        self.n_classes = n_classes\n",
    "        self.weight_1: torch.Tensor = torch.randn(input_size, 500, requires_grad=True)\n",
    "        self.bias_1: torch.Tensor = torch.zeros(500, requires_grad=True)\n",
    "        \n",
    "        self.weight_2: torch.Tensor = torch.randn(500, n_classes, requires_grad=True)\n",
    "        self.bias_2: torch.Tensor = torch.zeros(n_classes, requires_grad=True)\n",
    "        \n",
    "    def __call__(self, x: torch.Tensor) -> torch.Tensor:\n",
    "        \"\"\"\n",
    "        Forward pass through the network\n",
    "        \"\"\"\n",
    "        \n",
    "        out_1 = torch.matmul(x, self.weight_1) + self.bias_1\n",
    "        if self.activation:\n",
    "            out_1 = self.activation(out_1)\n",
    "        \n",
    "        return torch.matmul(out_1, self.weight_2) + self.bias_2\n",
    "    \n",
    "    def parameters(self) -> List[torch.Tensor]:\n",
    "        \"\"\"\n",
    "        Returns all trainable parameters \n",
    "        \"\"\"\n",
    "        return [self.weight_1, self.bias_1, self.weight_2, self.bias_2]"
   ]
  },
  {
   "cell_type": "code",
   "execution_count": 38,
   "metadata": {
    "scrolled": true
   },
   "outputs": [
    {
     "name": "stdout",
     "output_type": "stream",
     "text": [
      "Epoch 0 iter 900/937 loss: 45.882644653320318\n",
      "Test accuracy: 0.7986999750137329\n",
      "Epoch 1 iter 900/937 loss: 29.869281768798828\n",
      "Test accuracy: 0.8266000151634216\n",
      "Epoch 2 iter 900/937 loss: 18.753238677978516\n",
      "Test accuracy: 0.8400999903678894\n"
     ]
    }
   ],
   "source": [
    "from torch.optim import SGD\n",
    "from torch.nn.functional import cross_entropy, relu\n",
    "\n",
    "\n",
    "# some hyperparams\n",
    "batch_size: int = 64\n",
    "epoch: int = 3\n",
    "lr: float = 0.01\n",
    "momentum: float = 0.9\n",
    "\n",
    "# prepare data loaders, base don the already loaded datasets\n",
    "train_loader = torch.utils.data.DataLoader(train_data, batch_size=batch_size)\n",
    "test_loader = torch.utils.data.DataLoader(test_data, batch_size=batch_size)\n",
    "\n",
    "input_size = 784\n",
    "n_classes = 10\n",
    "\n",
    "# initialize the model\n",
    "model: CustomNetwork = CustomNetwork(input_size=input_size, activation=None, n_classes=n_classes)\n",
    "\n",
    "# initialize the optimizer\n",
    "optimizer: torch.optim.Optimizer = SGD(model.parameters(), lr=lr, momentum=momentum)\n",
    "\n",
    "# training loop\n",
    "for e in range(epoch):\n",
    "    for i, (x, y) in enumerate(train_loader):\n",
    "        \n",
    "        # reset the gradients from previouis iteration\n",
    "        optimizer.zero_grad()\n",
    "        # pass through the network\n",
    "        output: torch.Tensor = model(x)\n",
    "        # calculate loss\n",
    "        loss: torch.Tensor = cross_entropy(output, y)\n",
    "        # backward pass thorught the network\n",
    "        loss.backward()\n",
    "        # apply the gradients\n",
    "        optimizer.step()\n",
    "        \n",
    "        # log the loss value\n",
    "        if (i + 1) % 100 == 0:\n",
    "            print(f\"Epoch {e} iter {i+1}/{len(train_data) // batch_size} loss: {loss.item()}\", end=\"\\r\")\n",
    "            \n",
    "    # at the end of an epoch run evaluation on the test set\n",
    "    with torch.no_grad():\n",
    "        # initialize the number of correct predictions\n",
    "        correct: int = 0 \n",
    "        for i, (x, y) in enumerate(test_loader):\n",
    "            # pass through the network\n",
    "            output: torch.Tensor = model(x)\n",
    "            # update the number of correctly predicted examples\n",
    "            p = torch.argmax(output, dim=1)\n",
    "            correct += torch.sum((p == y).float())\n",
    "\n",
    "        print(f\"\\nTest accuracy: {correct / len(test_data)}\")\n",
    "\n",
    "        \n",
    "# this is your test\n",
    "assert correct / len(test_data) > 0.8, \"Subject to random seed you should be able to get >80% accuracy\""
   ]
  },
  {
   "cell_type": "markdown",
   "metadata": {},
   "source": [
    "## Zadanie 3.\n",
    "\n",
    "1. Przepisać całą sieć do PyTorcha używając [`torch.nn.Module`](https://pytorch.org/docs/stable/nn.html#torch.nn.Module), [`torch.nn.Linear`](https://pytorch.org/docs/stable/nn.html#torch.nn.Linear).\n",
    "2. Dodać [nieliniowe aktywacje](https://pytorch.org/docs/stable/nn.html#non-linear-activations-weighted-sum-nonlinearity) i dodatkową warstwę, tak aby wyciągnąć przynajmniej 95% testowego accuracy w 3 epoki."
   ]
  },
  {
   "cell_type": "code",
   "execution_count": 47,
   "metadata": {},
   "outputs": [],
   "source": [
    "class TorchNetwork(torch.nn.Module):\n",
    "    \"\"\"\n",
    "    Simple 2-hidden layer non-linear neural network\n",
    "    \"\"\"\n",
    "    \n",
    "    def __init__(self, input_size, activation, n_classes):\n",
    "        super(TorchNetwork, self).__init__()\n",
    "        self.h1 = torch.nn.Linear(input_size, 500)\n",
    "        self.h2 = torch.nn.Linear(500, 300)\n",
    "        self.out = torch.nn.Linear(300, n_classes)\n",
    "        self.act = activation\n",
    "        \n",
    "    def __call__(self, x):\n",
    "        out_h1 = self.act(self.h1(x))\n",
    "        out_h2 = self.act(self.h2(out_h1))\n",
    "        return self.out(out_h2)\n"
   ]
  },
  {
   "cell_type": "code",
   "execution_count": 48,
   "metadata": {},
   "outputs": [
    {
     "name": "stdout",
     "output_type": "stream",
     "text": [
      "Epoch 0 iter 900/937 loss: 0.052613385021686554\n",
      "Test accuracy: 0.9506000280380249\n",
      "Epoch 1 iter 900/937 loss: 0.033850342035293585\n",
      "Test accuracy: 0.9679999947547913\n",
      "Epoch 2 iter 900/937 loss: 0.019509539008140564\n",
      "Test accuracy: 0.9692999720573425\n"
     ]
    }
   ],
   "source": [
    "from torch.optim import SGD\n",
    "from torch.nn.functional import cross_entropy\n",
    "\n",
    "# some hyperparams\n",
    "batch_size: int = 64\n",
    "epoch: int = 3\n",
    "lr: float = 0.01\n",
    "momentum: float = 0.9\n",
    "\n",
    "# prepare data loaders, base don the already loaded datasets\n",
    "train_loader = torch.utils.data.DataLoader(train_data, batch_size=batch_size)\n",
    "test_loader = torch.utils.data.DataLoader(test_data, batch_size=batch_size)\n",
    "\n",
    "input_size = 784\n",
    "n_classes = 10\n",
    "\n",
    "# initialize the model\n",
    "model: TorchNetwork = TorchNetwork(input_size=input_size, activation=relu, n_classes=n_classes)\n",
    "\n",
    "# initialize the optimizer\n",
    "optimizer: torch.optim.Optimizer = SGD(model.parameters(), lr=lr, momentum=momentum)\n",
    "\n",
    "# training loop\n",
    "for e in range(epoch):\n",
    "    for i, (x, y) in enumerate(train_loader):\n",
    "        \n",
    "        # reset the gradients from previouis iteration\n",
    "        optimizer.zero_grad()\n",
    "        # pass through the network\n",
    "        output: torch.Tensor = model(x)\n",
    "        # calculate loss\n",
    "        loss: torch.Tensor = cross_entropy(output, y)\n",
    "        # backward pass thorught the network\n",
    "        loss.backward()\n",
    "        # apply the gradients\n",
    "        optimizer.step()\n",
    "        \n",
    "        # log the loss value\n",
    "        if (i + 1) % 100 == 0:\n",
    "            print(f\"Epoch {e} iter {i+1}/{len(train_data) // batch_size} loss: {loss.item()}\", end=\"\\r\")\n",
    "            \n",
    "    # at the end of an epoch run evaluation on the test set\n",
    "    with torch.no_grad():\n",
    "        # initialize the number of correct predictions\n",
    "        correct: int = 0 \n",
    "        for i, (x, y) in enumerate(test_loader):\n",
    "            # pass through the network\n",
    "            output: torch.Tensor = model(x)\n",
    "            # update the number of correctly predicted examples\n",
    "            p = torch.argmax(output, dim=1)\n",
    "            correct += torch.sum((p == y).float())\n",
    "\n",
    "        print(f\"\\nTest accuracy: {correct / len(test_data)}\")\n",
    "            \n",
    "            \n",
    "# this is your test       \n",
    "assert correct / len(test_data) > 0.95, \"Subject to random seed you should be able to get >95% accuracy\""
   ]
  },
  {
   "cell_type": "code",
   "execution_count": null,
   "metadata": {},
   "outputs": [],
   "source": []
  }
 ],
 "metadata": {
  "kernelspec": {
   "display_name": "Python 3",
   "language": "python",
   "name": "python3"
  },
  "language_info": {
   "codemirror_mode": {
    "name": "ipython",
    "version": 3
   },
   "file_extension": ".py",
   "mimetype": "text/x-python",
   "name": "python",
   "nbconvert_exporter": "python",
   "pygments_lexer": "ipython3",
   "version": "3.6.5"
  }
 },
 "nbformat": 4,
 "nbformat_minor": 2
}
